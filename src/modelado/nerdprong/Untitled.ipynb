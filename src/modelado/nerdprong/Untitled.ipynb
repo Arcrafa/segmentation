{
 "cells": [
  {
   "cell_type": "code",
   "execution_count": 1,
   "id": "ea7daf16-80b0-4d4e-a128-39effddd3b66",
   "metadata": {},
   "outputs": [
    {
     "name": "stderr",
     "output_type": "stream",
     "text": [
      "/wclustre/nova/users/rafaelma/m-rcnn/myenvname/lib/python3.6/site-packages/tensorflow/python/framework/dtypes.py:523: FutureWarning: Passing (type, 1) or '1type' as a synonym of type is deprecated; in a future version of numpy, it will be understood as (type, (1,)) / '(1,)type'.\n",
      "  _np_qint8 = np.dtype([(\"qint8\", np.int8, 1)])\n",
      "/wclustre/nova/users/rafaelma/m-rcnn/myenvname/lib/python3.6/site-packages/tensorflow/python/framework/dtypes.py:524: FutureWarning: Passing (type, 1) or '1type' as a synonym of type is deprecated; in a future version of numpy, it will be understood as (type, (1,)) / '(1,)type'.\n",
      "  _np_quint8 = np.dtype([(\"quint8\", np.uint8, 1)])\n",
      "/wclustre/nova/users/rafaelma/m-rcnn/myenvname/lib/python3.6/site-packages/tensorflow/python/framework/dtypes.py:525: FutureWarning: Passing (type, 1) or '1type' as a synonym of type is deprecated; in a future version of numpy, it will be understood as (type, (1,)) / '(1,)type'.\n",
      "  _np_qint16 = np.dtype([(\"qint16\", np.int16, 1)])\n",
      "/wclustre/nova/users/rafaelma/m-rcnn/myenvname/lib/python3.6/site-packages/tensorflow/python/framework/dtypes.py:526: FutureWarning: Passing (type, 1) or '1type' as a synonym of type is deprecated; in a future version of numpy, it will be understood as (type, (1,)) / '(1,)type'.\n",
      "  _np_quint16 = np.dtype([(\"quint16\", np.uint16, 1)])\n",
      "/wclustre/nova/users/rafaelma/m-rcnn/myenvname/lib/python3.6/site-packages/tensorflow/python/framework/dtypes.py:527: FutureWarning: Passing (type, 1) or '1type' as a synonym of type is deprecated; in a future version of numpy, it will be understood as (type, (1,)) / '(1,)type'.\n",
      "  _np_qint32 = np.dtype([(\"qint32\", np.int32, 1)])\n",
      "/wclustre/nova/users/rafaelma/m-rcnn/myenvname/lib/python3.6/site-packages/tensorflow/python/framework/dtypes.py:532: FutureWarning: Passing (type, 1) or '1type' as a synonym of type is deprecated; in a future version of numpy, it will be understood as (type, (1,)) / '(1,)type'.\n",
      "  np_resource = np.dtype([(\"resource\", np.ubyte, 1)])\n",
      "Using TensorFlow backend.\n"
     ]
    },
    {
     "name": "stdout",
     "output_type": "stream",
     "text": [
      "Loaded 118 images.\n",
      "Loading weights  /wclustre/nova/users/rafaelma2/models/mask_rcnn_nova_0249.h5\n"
     ]
    }
   ],
   "source": [
    "import os\n",
    "import sys\n",
    "import random\n",
    "import math\n",
    "import re\n",
    "import time\n",
    "import numpy as np\n",
    "import tensorflow as tf\n",
    "import nova_basic\n",
    "\n",
    "from mrcnn import utils\n",
    "from mrcnn import visualize\n",
    "from mrcnn.visualize import display_images\n",
    "import mrcnn.model as modellib\n",
    "from mrcnn.model import log\n",
    "#import big_o\n",
    "\n",
    "os.environ['CURL_CA_BUNDLE'] = ''\n",
    "\n",
    "class inferNovaConfig(nova_basic.novaConfig):\n",
    "    GPU_COUNT = 1\n",
    "    IMAGES_PER_GPU = 1\n",
    "config = inferNovaConfig()\n",
    "\n",
    "\n",
    "# Device to load the neural network on.\n",
    "# Useful if you're training a model on the same \n",
    "# machine, in which case use CPU and leave the\n",
    "# GPU for training.\n",
    "DEVICE = \"/cpu:0\"  # /cpu:0 or /gpu:0\n",
    "\n",
    "# Inspect the model in training or inference modes\n",
    "# values: 'inference' or 'training'\n",
    "# TODO: code for 'training' test mode not ready yet\n",
    "TEST_MODE = \"inference\"\n",
    "\n",
    "dataset = nova_basic.novaDataset()\n",
    "dataset.load_nova(['../../../datos/procesados/dataset/trimmed_FD_nominal_FHC_nonswap.999_of_2000.h5'])\n",
    "dataset.prepare()\n",
    "# Root directory of the project\n",
    "ROOT_DIR = os.path.abspath(\"../\")\n",
    "\n",
    "# Import Mask RCNN\n",
    "sys.path.append(ROOT_DIR)  # To find local version of the library\n",
    "MODEL_DIR = os.path.join(ROOT_DIR, \"logs\")\n",
    "# Create model in inference mode\n",
    "with tf.device(DEVICE):\n",
    "    model = modellib.MaskRCNN(mode=\"inference\", model_dir=MODEL_DIR,\n",
    "                              config=config)\n",
    "    \n",
    "weights_path = '/wclustre/nova/users/rafaelma2/models/mask_rcnn_nova_0249.h5'\n",
    "print(\"Loading weights \", weights_path)\n",
    "model.load_weights(weights_path, by_name=True)\n"
   ]
  },
  {
   "cell_type": "code",
   "execution_count": 7,
   "id": "6b590c4e-883d-4cdb-8ab9-a4ea18f4963a",
   "metadata": {},
   "outputs": [
    {
     "name": "stdout",
     "output_type": "stream",
     "text": [
      "Processing 2 images\n",
      "image                    shape: (256, 256, 2)         min:    0.00000  max:  255.00000  float32\n",
      "image                    shape: (256, 256, 2)         min:    0.00000  max:  255.00000  float32\n",
      "molded_images            shape: (2, 256, 256, 2)      min:    0.00000  max:  255.00000  float64\n",
      "image_metas              shape: (2, 19)               min:    0.00000  max:  256.00000  int64\n",
      "anchors                  shape: (2, 16368, 4)         min:   -0.35494  max:    1.10396  float32\n"
     ]
    }
   ],
   "source": [
    "def predict(batch_size):\n",
    "\n",
    "    model.config.BATCH_SIZE=batch_size\n",
    "    imagenes=next(modellib.data_generator(dataset,config,batch_size=batch_size))[0][0]\n",
    "    model.detect(imagenes, verbose=1)\n",
    "    \n",
    "predict(2)\n",
    "#best, others = big_o.big_o(predict, big_o.datagen.n_, n_repeats=10,min_n=1,max_n=200, n_measures=20)\n",
    "\n",
    "#print(best)"
   ]
  }
 ],
 "metadata": {
  "kernelspec": {
   "display_name": "myenvname",
   "language": "python",
   "name": "myenvname"
  },
  "language_info": {
   "codemirror_mode": {
    "name": "ipython",
    "version": 3
   },
   "file_extension": ".py",
   "mimetype": "text/x-python",
   "name": "python",
   "nbconvert_exporter": "python",
   "pygments_lexer": "ipython3",
   "version": "3.6.15"
  }
 },
 "nbformat": 4,
 "nbformat_minor": 5
}
