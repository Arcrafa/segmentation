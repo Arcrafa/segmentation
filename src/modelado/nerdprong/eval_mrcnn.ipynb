{
 "cells": [
  {
   "cell_type": "markdown",
   "metadata": {},
   "source": [
    "## Mask R-CNN - Inspect Trained Model\n",
    "\n",
    "Code and visualizations to test, debug, and evaluate the Mask R-CNN model."
   ]
  },
  {
   "cell_type": "code",
   "execution_count": 1,
   "metadata": {},
   "outputs": [
    {
     "name": "stdout",
     "output_type": "stream",
     "text": [
      "/bin/bash: mprof: command not found\n"
     ]
    }
   ],
   "source": [
    "!mprof run profiling_nerdprong.py"
   ]
  },
  {
   "cell_type": "code",
   "execution_count": 2,
   "metadata": {},
   "outputs": [
    {
     "data": {
      "text/plain": [
       "'/wclustre/nova/users/rafaelma/m-rcnn/myenvname/bin/python'"
      ]
     },
     "execution_count": 2,
     "metadata": {},
     "output_type": "execute_result"
    }
   ],
   "source": [
    "import sys\n",
    "sys.executable"
   ]
  },
  {
   "cell_type": "code",
   "execution_count": 3,
   "metadata": {},
   "outputs": [
    {
     "name": "stdout",
     "output_type": "stream",
     "text": [
      "/wclustre/nova/users/rafaelma2/venv385/bin/python\n"
     ]
    }
   ],
   "source": [
    "!which python"
   ]
  },
  {
   "cell_type": "code",
   "execution_count": 4,
   "metadata": {},
   "outputs": [
    {
     "name": "stdout",
     "output_type": "stream",
     "text": [
      "Salida del comando:\n",
      "/wclustre/nova/users/rafaelma2/venv385/bin/python\n",
      "\n"
     ]
    }
   ],
   "source": [
    "import subprocess\n",
    "\n",
    "result = subprocess.run(['which', 'python'], stdout=subprocess.PIPE, universal_newlines=True)\n",
    "\n",
    "# Imprimir la salida del comando\n",
    "print(\"Salida del comando:\")\n",
    "print(result.stdout)"
   ]
  },
  {
   "cell_type": "code",
   "execution_count": 5,
   "metadata": {
    "tags": []
   },
   "outputs": [
    {
     "name": "stderr",
     "output_type": "stream",
     "text": [
      "/wclustre/nova/users/rafaelma/m-rcnn/myenvname/lib/python3.6/site-packages/tensorflow/python/framework/dtypes.py:523: FutureWarning: Passing (type, 1) or '1type' as a synonym of type is deprecated; in a future version of numpy, it will be understood as (type, (1,)) / '(1,)type'.\n",
      "  _np_qint8 = np.dtype([(\"qint8\", np.int8, 1)])\n",
      "/wclustre/nova/users/rafaelma/m-rcnn/myenvname/lib/python3.6/site-packages/tensorflow/python/framework/dtypes.py:524: FutureWarning: Passing (type, 1) or '1type' as a synonym of type is deprecated; in a future version of numpy, it will be understood as (type, (1,)) / '(1,)type'.\n",
      "  _np_quint8 = np.dtype([(\"quint8\", np.uint8, 1)])\n",
      "/wclustre/nova/users/rafaelma/m-rcnn/myenvname/lib/python3.6/site-packages/tensorflow/python/framework/dtypes.py:525: FutureWarning: Passing (type, 1) or '1type' as a synonym of type is deprecated; in a future version of numpy, it will be understood as (type, (1,)) / '(1,)type'.\n",
      "  _np_qint16 = np.dtype([(\"qint16\", np.int16, 1)])\n",
      "/wclustre/nova/users/rafaelma/m-rcnn/myenvname/lib/python3.6/site-packages/tensorflow/python/framework/dtypes.py:526: FutureWarning: Passing (type, 1) or '1type' as a synonym of type is deprecated; in a future version of numpy, it will be understood as (type, (1,)) / '(1,)type'.\n",
      "  _np_quint16 = np.dtype([(\"quint16\", np.uint16, 1)])\n",
      "/wclustre/nova/users/rafaelma/m-rcnn/myenvname/lib/python3.6/site-packages/tensorflow/python/framework/dtypes.py:527: FutureWarning: Passing (type, 1) or '1type' as a synonym of type is deprecated; in a future version of numpy, it will be understood as (type, (1,)) / '(1,)type'.\n",
      "  _np_qint32 = np.dtype([(\"qint32\", np.int32, 1)])\n",
      "/wclustre/nova/users/rafaelma/m-rcnn/myenvname/lib/python3.6/site-packages/tensorflow/python/framework/dtypes.py:532: FutureWarning: Passing (type, 1) or '1type' as a synonym of type is deprecated; in a future version of numpy, it will be understood as (type, (1,)) / '(1,)type'.\n",
      "  np_resource = np.dtype([(\"resource\", np.ubyte, 1)])\n",
      "Using TensorFlow backend.\n"
     ]
    }
   ],
   "source": [
    "import os\n",
    "import sys\n",
    "import random\n",
    "import math\n",
    "import re\n",
    "import time\n",
    "import numpy as np\n",
    "import tensorflow as tf\n",
    "import matplotlib\n",
    "import matplotlib.pyplot as plt\n",
    "import matplotlib.patches as patches\n",
    "\n",
    "# Root directory of the project\n",
    "ROOT_DIR = os.path.abspath(\"../\")\n",
    "\n",
    "# Import Mask RCNN\n",
    "sys.path.append(ROOT_DIR)  # To find local version of the library\n",
    "from mrcnn import utils\n",
    "from mrcnn import visualize\n",
    "from mrcnn.visualize import display_images\n",
    "import mrcnn.model as modellib\n",
    "from mrcnn.model import log\n",
    "\n",
    "%matplotlib inline \n",
    "\n",
    "# Directory to save logs and trained model\n",
    "MODEL_DIR = os.path.join(ROOT_DIR, \"logs\")"
   ]
  },
  {
   "cell_type": "markdown",
   "metadata": {},
   "source": [
    "## Configurations"
   ]
  },
  {
   "cell_type": "code",
   "execution_count": 6,
   "metadata": {
    "tags": []
   },
   "outputs": [],
   "source": [
    "import nova_basic\n",
    "\n",
    "class inferNovaConfig(nova_basic.novaConfig):\n",
    "    GPU_COUNT = 1\n",
    "    IMAGES_PER_GPU = 1\n",
    "config = inferNovaConfig()"
   ]
  },
  {
   "cell_type": "markdown",
   "metadata": {},
   "source": [
    "## Notebook Preferences"
   ]
  },
  {
   "cell_type": "code",
   "execution_count": 7,
   "metadata": {
    "tags": []
   },
   "outputs": [],
   "source": [
    "# Device to load the neural network on.\n",
    "# Useful if you're training a model on the same \n",
    "# machine, in which case use CPU and leave the\n",
    "# GPU for training.\n",
    "DEVICE = \"/cpu:0\"  # /cpu:0 or /gpu:0\n",
    "\n",
    "# Inspect the model in training or inference modes\n",
    "# values: 'inference' or 'training'\n",
    "# TODO: code for 'training' test mode not ready yet\n",
    "TEST_MODE = \"inference\""
   ]
  },
  {
   "cell_type": "code",
   "execution_count": 8,
   "metadata": {
    "tags": []
   },
   "outputs": [],
   "source": [
    "def get_ax(rows=1, cols=1, size=16):\n",
    "    \"\"\"Return a Matplotlib Axes array to be used in\n",
    "    all visualizations in the notebook. Provide a\n",
    "    central point to control graph sizes.\n",
    "    \n",
    "    Adjust the size attribute to control how big to render images\n",
    "    \"\"\"\n",
    "    _, ax = plt.subplots(rows, cols, figsize=(size*cols, size*rows))\n",
    "    return ax"
   ]
  },
  {
   "cell_type": "markdown",
   "metadata": {},
   "source": [
    "## Load Validation Dataset"
   ]
  },
  {
   "cell_type": "code",
   "execution_count": 9,
   "metadata": {
    "tags": []
   },
   "outputs": [
    {
     "name": "stdout",
     "output_type": "stream",
     "text": [
      "Loaded 1202 images.\n",
      "Images: 1202\n",
      "Classes: ['BG', 'Electron', 'Muon', 'Proton', 'Photon', 'Pion', 'Other']\n"
     ]
    }
   ],
   "source": [
    "dataset = nova_basic.novaDataset()\n",
    "dataset_path='/wclustre/nova/users/rafaelma/dataset/'\n",
    "files=os.listdir(dataset_path)\n",
    "files = [dataset_path+f for f in files]\n",
    "files=files[0:10]\n",
    "dataset.load_nova(files)\n",
    "dataset.prepare()\n",
    "\n",
    "print(\"Images: {}\\nClasses: {}\".format(len(dataset.image_ids), dataset.class_names))"
   ]
  },
  {
   "cell_type": "markdown",
   "metadata": {},
   "source": [
    "## Load Model"
   ]
  },
  {
   "cell_type": "code",
   "execution_count": 10,
   "metadata": {
    "tags": []
   },
   "outputs": [],
   "source": [
    "# Create model in inference mode\n",
    "with tf.device(DEVICE):\n",
    "    model = modellib.MaskRCNN(mode=\"inference\", model_dir=MODEL_DIR,config=config)\n",
    "model.load_weights('mask_rcnn_nova_0249.h5', by_name=True)"
   ]
  },
  {
   "cell_type": "markdown",
   "metadata": {
    "tags": []
   },
   "source": [
    "## Run Detection"
   ]
  },
  {
   "cell_type": "code",
   "execution_count": 11,
   "metadata": {
    "tags": []
   },
   "outputs": [
    {
     "name": "stdout",
     "output_type": "stream",
     "text": [
      "image ID: NOvA.985 (985) \n",
      "Processing 1 images\n",
      "image                    shape: (256, 256, 2)         min:    0.00000  max:  255.00000  float64\n",
      "molded_images            shape: (1, 256, 256, 2)      min:    0.00000  max:  255.00000  float64\n",
      "image_metas              shape: (1, 19)               min:    0.00000  max:  256.00000  int64\n",
      "anchors                  shape: (1, 16368, 4)         min:   -0.35494  max:    1.10396  float32\n"
     ]
    },
    {
     "data": {
      "image/png": "[encoded data removed]",
      "text/plain": [
       "<Figure size 1152x1152 with 1 Axes>"
      ]
     },
     "metadata": {
      "needs_background": "light"
     },
     "output_type": "display_data"
    }
   ],
   "source": [
    "image_id = random.choice(dataset.image_ids)\n",
    "image, image_meta, gt_class_id, gt_bbox, gt_mask =\\\n",
    "    modellib.load_image_gt(dataset, config, image_id)\n",
    "info = dataset.image_info[image_id]\n",
    "print(\"image ID: {}.{} ({}) {}\".format(info[\"source\"], info[\"id\"], image_id, \n",
    "                                       dataset.image_reference(image_id)))\n",
    "# Run object detection\n",
    "results = model.detect([image], verbose=1)\n",
    "\n",
    "# Display results\n",
    "ax = get_ax(1)\n",
    "r = results[0]\n",
    "visualize.display_instances(image, r['rois'], r['masks'], r['class_ids'], dataset.class_names, r['scores'], ax=ax,title=\"Predictions\")\n"
   ]
  },
  {
   "cell_type": "code",
   "execution_count": 12,
   "metadata": {
    "tags": []
   },
   "outputs": [],
   "source": [
    "def mask_iou_calc(masks1, masks2):\n",
    "    \"\"\"\n",
    "    Return intersection-over-union (Jaccard index) of masks.\n",
    "    Both sets of masks are expected to have the same shape.\n",
    "    Arguments:\n",
    "        masks1 (Array[N, H, W])\n",
    "        masks2 (Array[M, H, W])\n",
    "    Returns:\n",
    "        iou (Array[N, M]): the NxM matrix containing the pairwise\n",
    "            IoU values for every element in masks1 and masks2\n",
    "    \"\"\"\n",
    "    area1 = np.sum(masks1, axis=(1, 2))  # [N]\n",
    "    area2 = np.sum(masks2, axis=(1, 2))  # [M]\n",
    "\n",
    "    # Compute intersection between all masks combinations\n",
    "    intersection = np.einsum('nij,mij->nm', masks1, masks2)  # [N, M]\n",
    "\n",
    "    union = area1[:, np.newaxis] + area2 - intersection\n",
    "    iou = intersection / union\n",
    "\n",
    "    return iou\n",
    "def compute_overlaps_masks(masks1, masks2):\n",
    "    \"\"\"Computes IoU overlaps between two sets of masks.\n",
    "    masks1, masks2: [Height, Width, instances]\n",
    "    \"\"\"\n",
    "    \n",
    "    # If either set of masks is empty return empty result\n",
    "    if masks1.shape[-1] == 0 or masks2.shape[-1] == 0:\n",
    "        return np.zeros((masks1.shape[-1], masks2.shape[-1]))\n",
    "    # flatten masks and compute their areas\n",
    "    masks1 = np.reshape(masks1 > .5, (-1, masks1.shape[-1])).astype(np.float32)\n",
    "    masks2 = np.reshape(masks2 > .5, (-1, masks2.shape[-1])).astype(np.float32)\n",
    "    area1 = np.sum(masks1, axis=0)\n",
    "    area2 = np.sum(masks2, axis=0)\n",
    "\n",
    "    # intersections and union\n",
    "    intersections = np.dot(masks1.T, masks2)\n",
    "    union = area1[:, None] + area2[None, :] - intersections\n",
    "    overlaps = intersections / union\n",
    "\n",
    "    return overlaps"
   ]
  },
  {
   "cell_type": "code",
   "execution_count": 13,
   "metadata": {
    "editable": true,
    "slideshow": {
     "slide_type": ""
    },
    "tags": []
   },
   "outputs": [
    {
     "name": "stderr",
     "output_type": "stream",
     "text": [
      "100%|██████████| 10/10 [00:03<00:00,  2.66it/s]\n",
      "/wclustre/nova/users/rafaelma/m-rcnn/myenvname/lib/python3.6/site-packages/ipykernel_launcher.py:75: RuntimeWarning: invalid value encountered in double_scalars\n",
      "/wclustre/nova/users/rafaelma/m-rcnn/myenvname/lib/python3.6/site-packages/ipykernel_launcher.py:90: RuntimeWarning: invalid value encountered in double_scalars\n",
      "/wclustre/nova/users/rafaelma/m-rcnn/myenvname/lib/python3.6/site-packages/seaborn/matrix.py:198: RuntimeWarning: All-NaN slice encountered\n",
      "  vmin = np.nanmin(calc_data)\n",
      "/wclustre/nova/users/rafaelma/m-rcnn/myenvname/lib/python3.6/site-packages/seaborn/matrix.py:203: RuntimeWarning: All-NaN slice encountered\n",
      "  vmax = np.nanmax(calc_data)\n"
     ]
    },
    {
     "data": {
      "image/png": "[encoded data removed]",
      "text/plain": [
       "<Figure size 1080x432 with 4 Axes>"
      ]
     },
     "metadata": {
      "needs_background": "light"
     },
     "output_type": "display_data"
    }
   ],
   "source": [
    "import numpy as np\n",
    "from tqdm import tqdm\n",
    "import pandas as pd\n",
    "import seaborn as sb\n",
    "class ConfusionMatrix:\n",
    "    def __init__(self, num_classes: int, CONF_THRESHOLD=0.3, IOU_THRESHOLD=0.1):\n",
    "        self.matrix = np.zeros((num_classes, num_classes))\n",
    "        self.num_classes = num_classes\n",
    "        self.CONF_THRESHOLD = CONF_THRESHOLD\n",
    "        self.IOU_THRESHOLD = IOU_THRESHOLD\n",
    "\n",
    "    def process_batch(self, outputs, real,batch_size):\n",
    "        \n",
    "        for i in range(batch_size):\n",
    "            try:\n",
    "                pred_scores = torch.tensor([d['score'] for d in outputs[i]['segments_info']]).numpy()\n",
    "                pred_labels = torch.tensor([d['label_id'] for d in outputs[i]['segments_info']]).numpy()\n",
    "\n",
    "\n",
    "                pred_masks = torch.stack([torch.tensor((outputs[i]['segmentation'].numpy() == x) * 1, dtype=torch.uint8) for x in range(int(torch.max(outputs[i]['segmentation'])) + 1)]).numpy()\n",
    "\n",
    "                target_labels = torch.tensor(real['class_labels'][i].tolist()).numpy()\n",
    "                target_masks = torch.tensor(real['mask_labels'][i], dtype=torch.uint8).numpy()\n",
    "            \n",
    "            except:\n",
    "                continue\n",
    "\n",
    "            all_ious = compute_overlaps_masks(target_masks, pred_masks)\n",
    "            want_idx = np.where(all_ious > self.IOU_THRESHOLD)\n",
    "\n",
    "            all_matches = [[want_idx[0][i], want_idx[1][i], all_ious[want_idx[0][i], want_idx[1][i]]]\n",
    "                           for i in range(want_idx[0].shape[0])]\n",
    "\n",
    "            all_matches = np.array(all_matches)\n",
    "            if all_matches.shape[0] > 0:  # if there is match\n",
    "                all_matches = all_matches[all_matches[:, 2].argsort()[::-1]]\n",
    "\n",
    "                all_matches = all_matches[np.unique(all_matches[:, 1], return_index=True)[1]]\n",
    "\n",
    "                all_matches = all_matches[all_matches[:, 2].argsort()[::-1]]\n",
    "\n",
    "                all_matches = all_matches[np.unique(all_matches[:, 0], return_index=True)[1]]\n",
    "\n",
    "            for i, label in enumerate(target_masks):\n",
    "                gt_class = target_labels[i]\n",
    "                if all_matches.shape[0] > 0 and all_matches[all_matches[:, 0] == i].shape[0] == 1:\n",
    "                    detection_class = pred_labels[int(all_matches[all_matches[:, 0] == i, 1][0])]\n",
    "                    self.matrix[detection_class, gt_class] += 1\n",
    "            #    else:\n",
    "            #        self.matrix[self.num_classes, gt_class] += 1\n",
    "            #        pass\n",
    "            #for i, detection in enumerate(pred_masks):\n",
    "            #    if all_matches.shape[0] and all_matches[all_matches[:, 1] == i].shape[0] == 0:\n",
    "            #        detection_class = pred_labels[i]\n",
    "            #        self.matrix[detection_class, self.num_classes] += 1\n",
    "\n",
    "    def return_matrix(self):\n",
    "        return self.matrix\n",
    "\n",
    "    def print_matrix(self):\n",
    "        for i in range(self.num_classes + 1):\n",
    "            print(' '.join(map(str, self.matrix[i])))\n",
    "            \n",
    "    def matrix_eficiencia(self):\n",
    "        matriz_original=self.matrix[1:-1, 1:-1]\n",
    "        # Calcular la suma de cada columna\n",
    "        suma_columnas = np.sum(matriz_original, axis=0)\n",
    "\n",
    "        # Crear una nueva matriz\n",
    "        matriz_nueva = np.zeros_like(matriz_original, dtype=float)\n",
    "\n",
    "        # Generar la nueva matriz\n",
    "        for i in range(matriz_original.shape[0]):\n",
    "            for j in range(matriz_original.shape[1]):\n",
    "                matriz_nueva[i][j] = np.round(matriz_original[i][j] / suma_columnas[j],2)\n",
    "\n",
    "        return matriz_nueva\n",
    "\n",
    "    def matrix_pureza(self):\n",
    "        matriz_original=self.matrix[1:-1, 1:-1]\n",
    "        # Calcular la suma de cada columna\n",
    "        suma_columnas = np.sum(matriz_original, axis=1)\n",
    "\n",
    "        # Crear una nueva matriz\n",
    "        matriz_nueva = np.zeros_like(matriz_original, dtype=float)\n",
    "\n",
    "        # Generar la nueva matriz\n",
    "        for i in range(matriz_original.shape[0]):\n",
    "            for j in range(matriz_original.shape[1]):\n",
    "                matriz_nueva[i][j] = np.round(matriz_original[i][j] / suma_columnas[i],2)\n",
    "\n",
    "        return matriz_nueva\n",
    "    \n",
    "    def process_image(self,results,masks, class_ids):\n",
    "        \n",
    "        result=results[0]\n",
    "        try:\n",
    "            pred_scores = result['scores']\n",
    "            pred_labels = result['class_ids']\n",
    "\n",
    "\n",
    "            pred_masks = result['masks']\n",
    "\n",
    "\n",
    "            target_labels = class_ids\n",
    "            target_masks = masks\n",
    "        \n",
    "            all_ious = compute_overlaps_masks(target_masks, pred_masks)\n",
    "            want_idx = np.where(all_ious > self.IOU_THRESHOLD)\n",
    "\n",
    "            all_matches = [[want_idx[0][i], want_idx[1][i], all_ious[want_idx[0][i], want_idx[1][i]]]\n",
    "                           for i in range(want_idx[0].shape[0])]\n",
    "\n",
    "            all_matches = np.array(all_matches)\n",
    "            if all_matches.shape[0] > 0:  # if there is match\n",
    "                all_matches = all_matches[all_matches[:, 2].argsort()[::-1]]\n",
    "\n",
    "                all_matches = all_matches[np.unique(all_matches[:, 1], return_index=True)[1]]\n",
    "\n",
    "                all_matches = all_matches[all_matches[:, 2].argsort()[::-1]]\n",
    "\n",
    "                all_matches = all_matches[np.unique(all_matches[:, 0], return_index=True)[1]]\n",
    "\n",
    "\n",
    "            for i, label in enumerate(target_labels):\n",
    "\n",
    "                gt_class = target_labels[i]\n",
    "                if all_matches.shape[0] > 0 and all_matches[all_matches[:, 0] == i].shape[0] == 1:\n",
    "                    detection_class = pred_labels[int(all_matches[all_matches[:, 0] == i, 1][0])]\n",
    "                    self.matrix[detection_class, gt_class] += 1\n",
    "        except:\n",
    "            return\n",
    "    \n",
    "    def calc_matrix(self,model,novadataset,num_imgs):\n",
    "        \n",
    "\n",
    "        image_ids = dataset.image_ids\n",
    "        \n",
    "        image_ids = np.random.choice(image_ids,num_imgs)\n",
    "\n",
    "        \n",
    "        for image_id in tqdm(image_ids):\n",
    "            \n",
    "            image = dataset.load_image(image_id)\n",
    "            \n",
    "            masks, class_ids = dataset.load_mask(image_id)\n",
    "            \n",
    "            \n",
    "            try:\n",
    "                results=model.detect([image])\n",
    "                #self.process_image(results,masks, class_ids)\n",
    "            except:\n",
    "                pass\n",
    "            \n",
    "        \"\"\"for i in tqdm(range(num_bachs)):\n",
    "            real=next(iter(test_dataloader))\n",
    "            # Inference\n",
    "            plmodel.model.eval()\n",
    "            with torch.no_grad():\n",
    "                outputs = plmodel.model(real[\"pixel_values\"])\n",
    "            # you can pass them to processor for postprocessing\n",
    "            outputs = plmodel.test_dataset.processor.post_process_instance_segmentation(outputs,target_sizes=[[255,240]]*bach_size)\n",
    "\n",
    "            self.process_batch(outputs,real,20)\n",
    "\n",
    "        \"\"\"\n",
    "    def plot_matrix(self):\n",
    "        clases = ['Electron', 'Muon', 'Proton', 'Photon', 'Pion']\n",
    "\n",
    "        dfmat_eficiencia = pd.DataFrame(self.matrix_eficiencia(), index=clases, columns=clases)\n",
    "        dfmat_pureza = pd.DataFrame(self.matrix_pureza(), index=clases, columns=clases)\n",
    "\n",
    "        fig, axes = plt.subplots(1, 2, figsize=(15, 6))\n",
    "\n",
    "        grafica_eficiencia = sb.heatmap(dfmat_eficiencia, cmap='Blues', annot=True, fmt='g', ax=axes[0])\n",
    "        grafica_eficiencia.set(xlabel='MODELO', ylabel='REAL')\n",
    "        grafica_eficiencia.set_title('Matriz de Eficiencia')\n",
    "\n",
    "        grafica_pureza = sb.heatmap(dfmat_pureza, cmap='Blues', annot=True, fmt='g', ax=axes[1])\n",
    "        grafica_pureza.set(xlabel='MODELO', ylabel='REAL')\n",
    "        grafica_pureza.set_title('Matriz de Pureza')\n",
    "\n",
    "        plt.savefig('plots/confusion.jpg')\n",
    "        plt.show()\n",
    "        \n",
    "cm=ConfusionMatrix(7,0.5,0.5)  \n",
    "\n",
    "cm.calc_matrix(model,dataset,10)\n",
    "\n",
    "cm.plot_matrix()"
   ]
  },
  {
   "cell_type": "code",
   "execution_count": null,
   "metadata": {},
   "outputs": [],
   "source": []
  }
 ],
 "metadata": {
  "kernelspec": {
   "display_name": "myenvname",
   "language": "python",
   "name": "myenvname"
  },
  "language_info": {
   "codemirror_mode": {
    "name": "ipython",
    "version": 3
   },
   "file_extension": ".py",
   "mimetype": "text/x-python",
   "name": "python",
   "nbconvert_exporter": "python",
   "pygments_lexer": "ipython3",
   "version": "3.6.15"
  }
 },
 "nbformat": 4,
 "nbformat_minor": 4
}
